{
 "cells": [
  {
   "cell_type": "code",
   "execution_count": null,
   "metadata": {
    "pycharm": {
     "is_executing": true,
     "name": "#%%\n"
    }
   },
   "outputs": [],
   "source": [
    "from os.path import abspath, join\n",
    "import pandas as pd\n",
    "from plotnine import ggplot, geom_bar, aes, scale_x_discrete, theme, element_text, labs\n",
    "\n",
    "\n",
    "path = \"C:/Nitsan/third/JavaAnalyzer\"\n",
    "results_file = \"analyzerResults_v2.csv\""
   ]
  },
  {
   "cell_type": "code",
   "execution_count": null,
   "metadata": {
    "pycharm": {
     "name": "#%%\n"
    }
   },
   "outputs": [],
   "source": [
    "# Read the data\n",
    "df = pd.read_csv(abspath(join(path, results_file)))"
   ]
  },
  {
   "cell_type": "code",
   "execution_count": null,
   "metadata": {
    "pycharm": {
     "name": "#%%\n"
    }
   },
   "outputs": [],
   "source": [
    "# Summarize data\n",
    "word_hist = df.name.value_counts()\n",
    "word_hist = pd.DataFrame(word_hist.items(), columns=[\"name\", \"count\"])\n"
   ]
  },
  {
   "cell_type": "code",
   "execution_count": null,
   "metadata": {
    "pycharm": {
     "is_executing": true,
     "name": "#%%\n"
    }
   },
   "outputs": [],
   "source": [
    "n = 50\n",
    "word_hist = word_hist.nlargest(n, 'count')\n",
    "print(\n",
    "    ggplot(word_hist)\n",
    "    + labs(x=str(n) +\" Most frequent words\", y=\"Occurrences in project\")\n",
    "    + scale_x_discrete(limits=df['name'].tolist())\n",
    "    + geom_bar(aes(x='name', y='count'), stat='identity', fill='blue')\n",
    "    + theme(axis_text_x=element_text(rotation=90))\n",
    ")\n",
    "print(\"/n\")"
   ]
  },
  {
   "cell_type": "code",
   "execution_count": null,
   "outputs": [],
   "source": [],
   "metadata": {
    "collapsed": false,
    "pycharm": {
     "name": "#%%\n"
    }
   }
  },
  {
   "cell_type": "code",
   "execution_count": null,
   "metadata": {},
   "outputs": [],
   "source": []
  }
 ],
 "metadata": {
  "kernelspec": {
   "display_name": "Python 3",
   "language": "python",
   "name": "python3"
  },
  "language_info": {
   "codemirror_mode": {
    "name": "ipython",
    "version": 2
   },
   "file_extension": ".py",
   "mimetype": "text/x-python",
   "name": "python",
   "nbconvert_exporter": "python",
   "pygments_lexer": "ipython2",
   "version": "2.7.6"
  }
 },
 "nbformat": 4,
 "nbformat_minor": 1
}